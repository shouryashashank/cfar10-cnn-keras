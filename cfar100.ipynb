{
  "nbformat": 4,
  "nbformat_minor": 0,
  "metadata": {
    "colab": {
      "name": "cfar.ipynb",
      "version": "0.3.2",
      "provenance": [],
      "collapsed_sections": [],
      "include_colab_link": true
    },
    "kernelspec": {
      "name": "python2",
      "display_name": "Python 2"
    },
    "accelerator": "GPU"
  },
  "cells": [
    {
      "cell_type": "markdown",
      "metadata": {
        "id": "view-in-github",
        "colab_type": "text"
      },
      "source": [
        "<a href=\"https://colab.research.google.com/github/shouryashashank/cfar10-cnn-keras/blob/master/cfar100.ipynb\" target=\"_parent\"><img src=\"https://colab.research.google.com/assets/colab-badge.svg\" alt=\"Open In Colab\"/></a>"
      ]
    },
    {
      "metadata": {
        "id": "3QKArSXo_q_g",
        "colab_type": "code",
        "outputId": "e661aedf-892b-4975-d428-c63ea00ffa12",
        "colab": {
          "base_uri": "https://localhost:8080/",
          "height": 34
        }
      },
      "cell_type": "code",
      "source": [
        "import numpy as np\n",
        "import matplotlib.pyplot as plt\n",
        "%matplotlib inline\n",
        "from __future__ import print_function\n",
        "import keras\n",
        "from keras.models import Sequential\n",
        "from keras.layers import Dense, Conv2D, MaxPooling2D, Dropout, Flatten ,Activation, regularizers\n",
        "from keras.regularizers import l2\n",
        "from keras.callbacks import Callback, LearningRateScheduler, TensorBoard, ModelCheckpoint\n",
        "from keras import backend as K\n",
        "K.tensorflow_backend._get_available_gpus()"
      ],
      "execution_count": 0,
      "outputs": [
        {
          "output_type": "execute_result",
          "data": {
            "text/plain": [
              "['/job:localhost/replica:0/task:0/device:GPU:0']"
            ]
          },
          "metadata": {
            "tags": []
          },
          "execution_count": 51
        }
      ]
    },
    {
      "metadata": {
        "id": "F1l9V-O0_q_o",
        "colab_type": "text"
      },
      "cell_type": "markdown",
      "source": [
        "## Import the Data\n",
        "The CIFAR10 dataset comes bundled with Keras. We will use the load_data function to load it into memory"
      ]
    },
    {
      "metadata": {
        "id": "YiAtQiD4_q_p",
        "colab_type": "code",
        "colab": {}
      },
      "cell_type": "code",
      "source": [
        "from keras.datasets import cifar100\n",
        "(train_images, train_labels), (test_images, test_labels) = cifar100.load_data()"
      ],
      "execution_count": 0,
      "outputs": []
    },
    {
      "metadata": {
        "id": "jUbOwsV9_q_t",
        "colab_type": "text"
      },
      "cell_type": "markdown",
      "source": [
        "## Explore the Data\n",
        "Check out the number of images in training and test data and also the number of classes and some sample images"
      ]
    },
    {
      "metadata": {
        "id": "yh4o9w8n_q_u",
        "colab_type": "code",
        "colab": {}
      },
      "cell_type": "code",
      "source": [
        "from keras.utils import to_categorical"
      ],
      "execution_count": 0,
      "outputs": []
    },
    {
      "metadata": {
        "id": "Qr1HsKIm_q_y",
        "colab_type": "code",
        "outputId": "17b7e751-dcb0-416b-93ca-61ef25ff8968",
        "colab": {
          "base_uri": "https://localhost:8080/",
          "height": 417
        }
      },
      "cell_type": "code",
      "source": [
        "print('Training data shape : ', train_images.shape, train_labels.shape)\n",
        "\n",
        "print('Testing data shape : ', test_images.shape, test_labels.shape)\n",
        "\n",
        "# Find the unique numbers from the train labels\n",
        "classes = np.unique(train_labels)\n",
        "nClasses = len(classes)\n",
        "print('Total number of outputs : ', nClasses)\n",
        "print('Output classes : ', classes)\n",
        "\n",
        "plt.figure(figsize=[8,4])\n",
        "\n",
        "# Display the first image in training data\n",
        "plt.subplot(121)\n",
        "plt.imshow(train_images[88,:,:], cmap='gray')\n",
        "plt.title(\"Ground Truth : {}\".format(train_labels[88]))\n",
        "\n",
        "# Display the first image in testing data\n",
        "plt.subplot(122)\n",
        "plt.imshow(test_images[0,:,:], cmap='gray')\n",
        "plt.title(\"Ground Truth : {}\".format(test_labels[0]))\n"
      ],
      "execution_count": 0,
      "outputs": [
        {
          "output_type": "stream",
          "text": [
            "Training data shape :  (50000, 32, 32, 3) (50000, 1)\n",
            "Testing data shape :  (10000, 32, 32, 3) (10000, 1)\n",
            "Total number of outputs :  100\n",
            "Output classes :  [ 0  1  2  3  4  5  6  7  8  9 10 11 12 13 14 15 16 17 18 19 20 21 22 23\n",
            " 24 25 26 27 28 29 30 31 32 33 34 35 36 37 38 39 40 41 42 43 44 45 46 47\n",
            " 48 49 50 51 52 53 54 55 56 57 58 59 60 61 62 63 64 65 66 67 68 69 70 71\n",
            " 72 73 74 75 76 77 78 79 80 81 82 83 84 85 86 87 88 89 90 91 92 93 94 95\n",
            " 96 97 98 99]\n"
          ],
          "name": "stdout"
        },
        {
          "output_type": "execute_result",
          "data": {
            "text/plain": [
              "Text(0.5,1,'Ground Truth : [49]')"
            ]
          },
          "metadata": {
            "tags": []
          },
          "execution_count": 16
        },
        {
          "output_type": "display_data",
          "data": {
            "image/png": "[encoded data removed]",
            "text/plain": [
              "<Figure size 576x288 with 2 Axes>"
            ]
          },
          "metadata": {
            "tags": []
          }
        }
      ]
    },
    {
      "metadata": {
        "id": "Wltu62yA_q_3",
        "colab_type": "text"
      },
      "cell_type": "markdown",
      "source": [
        "## Preprocess the Data\n",
        "Perform normalization of data and convert the labels to categorical variables to be used in Keras"
      ]
    },
    {
      "metadata": {
        "id": "BpQcFCSo_q_5",
        "colab_type": "code",
        "colab": {}
      },
      "cell_type": "code",
      "source": [
        "# Find the shape of input images and create the variable input_shape\n",
        "nRows,nCols,nDims = train_images.shape[1:]\n",
        "train_data = train_images.reshape(train_images.shape[0], nRows, nCols, nDims)\n",
        "test_data = test_images.reshape(test_images.shape[0], nRows, nCols, nDims)\n",
        "input_shape = (nRows, nCols, nDims)\n",
        "\n",
        "# Change to float datatype\n",
        "train_data = train_data.astype('float32')\n",
        "test_data = test_data.astype('float32')\n",
        "\n",
        "# Scale the data to lie between 0 to 1\n",
        "train_data /= 255\n",
        "test_data /= 255\n",
        "\n",
        "# Change the labels from integer to categorical data\n",
        "train_labels_one_hot = to_categorical(train_labels)\n",
        "test_labels_one_hot = to_categorical(test_labels)"
      ],
      "execution_count": 0,
      "outputs": []
    },
    {
      "metadata": {
        "id": "e_wgmhXp_q_9",
        "colab_type": "code",
        "outputId": "b3cccba8-d2f7-422c-c804-eb0755b6f024",
        "colab": {
          "base_uri": "https://localhost:8080/",
          "height": 118
        }
      },
      "cell_type": "code",
      "source": [
        "# Display the change for category label using one-hot encoding\n",
        "print('Original label 0 : ', train_labels[0])\n",
        "print('After conversion to categorical ( one-hot ) : ', train_labels_one_hot[0])"
      ],
      "execution_count": 0,
      "outputs": [
        {
          "output_type": "stream",
          "text": [
            "Original label 0 :  [19]\n",
            "After conversion to categorical ( one-hot ) :  [0. 0. 0. 0. 0. 0. 0. 0. 0. 0. 0. 0. 0. 0. 0. 0. 0. 0. 0. 1. 0. 0. 0. 0.\n",
            " 0. 0. 0. 0. 0. 0. 0. 0. 0. 0. 0. 0. 0. 0. 0. 0. 0. 0. 0. 0. 0. 0. 0. 0.\n",
            " 0. 0. 0. 0. 0. 0. 0. 0. 0. 0. 0. 0. 0. 0. 0. 0. 0. 0. 0. 0. 0. 0. 0. 0.\n",
            " 0. 0. 0. 0. 0. 0. 0. 0. 0. 0. 0. 0. 0. 0. 0. 0. 0. 0. 0. 0. 0. 0. 0. 0.\n",
            " 0. 0. 0. 0.]\n"
          ],
          "name": "stdout"
        }
      ]
    },
    {
      "metadata": {
        "id": "_o42cVb9_rAB",
        "colab_type": "text"
      },
      "cell_type": "markdown",
      "source": [
        "## Define the Model\n",
        "Create the model with conv layer, max pooling layer, dropout layer and Dense layer"
      ]
    },
    {
      "metadata": {
        "id": "DCXUA5om_rAC",
        "colab_type": "code",
        "outputId": "fd5f43ad-0a0a-4544-d417-62ec8af2d2cf",
        "colab": {
          "base_uri": "https://localhost:8080/",
          "height": 1075
        }
      },
      "cell_type": "code",
      "source": [
        "def createModel():\n",
        "    model = Sequential()\n",
        "    # The first two layers with 32 filters of window size 3x3\n",
        "    model.add(Conv2D(32, (3, 3), padding='same', activation='relu', input_shape=input_shape))\n",
        "    model.add(Activation('elu'))\n",
        "    model.add(Conv2D(32, (3, 3), activation='relu'))\n",
        "    model.add(Conv2D(32, (3, 3),padding='same', activation='relu'))\n",
        "    model.add(Conv2D(32, (3, 3),padding='same', activation='relu'))\n",
        "    \n",
        "    model.add(MaxPooling2D(pool_size=(2, 2)))\n",
        "    model.add(Dropout(0.25))\n",
        "\n",
        "    model.add(Conv2D(64, (3, 3), padding='same', activation='relu'))\n",
        "    model.add(Conv2D(64, (3, 3), activation='relu'))\n",
        "    model.add(Conv2D(64, (3, 3),padding='same', activation='relu'))\n",
        "    model.add(Conv2D(64, (3, 3),padding='same', activation='relu'))\n",
        "    model.add(MaxPooling2D(pool_size=(2, 2), padding='same'))\n",
        "    model.add(Dropout(0.25))\n",
        "\n",
        "    model.add(Conv2D(64, (3, 3), padding='same', activation='relu'))\n",
        "    model.add(Conv2D(64, (3, 3), activation='relu'))\n",
        "    model.add(Conv2D(64, (3, 3),padding='same', activation='relu'))\n",
        "    model.add(Conv2D(64, (3, 3),padding='same', activation='relu'))\n",
        "    model.add(MaxPooling2D(pool_size=(2, 2)))\n",
        "    model.add(Dropout(0.25))\n",
        "    \n",
        "    model.add(Conv2D(64, (3, 3), padding='same', activation='relu'))\n",
        "    model.add(Conv2D(64, (3, 3),padding='same', activation='relu'))\n",
        "    model.add(Conv2D(64, (3, 3),padding='same', activation='relu'))\n",
        "    model.add(MaxPooling2D(pool_size=(2, 2)))\n",
        "    model.add(Dropout(0.25))\n",
        "    \n",
        "    model.add(Flatten())\n",
        "    model.add(Dense(512, activation='relu'))\n",
        "    model.add(Dropout(0.5))\n",
        "    model.add(Dense(nClasses, activation='softmax'))\n",
        "    \n",
        "    \n",
        "    \n",
        "    return model\n",
        "\n",
        "# def cm2():\n",
        "#   model = Sequential()\n",
        "#   #model.add(ZeroPadding2D(4, input_shape=x_train.shape[1:]))\n",
        "#   # Stack 1:\n",
        "#   model.add(Conv2D(384, (3, 3), padding='same', kernel_regularizer=regularizers.l2(0.01)))\n",
        "#   model.add(Activation('elu'))\n",
        "#   model.add(MaxPooling2D(pool_size=(2, 2), padding='same'))\n",
        "#   model.add(Dropout(INIT_DROPOUT_RATE))\n",
        "#   # Stack 2:\n",
        "#   model.add(Conv2D(384, (1, 1), padding='same', kernel_regularizer=regularizers.l2(L2_DECAY_RATE)))\n",
        "#   model.add(Conv2D(384, (2, 2), padding='same', kernel_regularizer=regularizers.l2(L2_DECAY_RATE)))\n",
        "#   model.add(Conv2D(640, (2, 2), padding='same', kernel_regularizer=l2(L2_DECAY_RATE)))\n",
        "#   model.add(Conv2D(640, (2, 2), padding='same', kernel_regularizer=l2(L2_DECAY_RATE)))\n",
        "#   model.add(Activation('elu'))\n",
        "#   model.add(MaxPooling2D(pool_size=(2, 2), padding='same'))\n",
        "#   model.add(Dropout(INIT_DROPOUT_RATE))\n",
        "#   # Stack 3:\n",
        "#   model.add(Conv2D(640, (3, 3), padding='same', kernel_regularizer=l2(L2_DECAY_RATE)))\n",
        "#   model.add(Conv2D(768, (2, 2), padding='same', kernel_regularizer=l2(L2_DECAY_RATE)))\n",
        "#   model.add(Conv2D(768, (2, 2), padding='same', kernel_regularizer=l2(L2_DECAY_RATE)))\n",
        "#   model.add(Conv2D(768, (2, 2), padding='same', kernel_regularizer=l2(L2_DECAY_RATE)))\n",
        "#   model.add(Activation('elu'))\n",
        "#   model.add(MaxPooling2D(pool_size=(2, 2), padding='same'))\n",
        "#   model.add(Dropout(INIT_DROPOUT_RATE))\n",
        "#   # Stack 4:\n",
        "#   model.add(Conv2D(768, (1, 1), padding='same', kernel_regularizer=l2(L2_DECAY_RATE)))\n",
        "#   model.add(Conv2D(896, (2, 2), padding='same', kernel_regularizer=l2(L2_DECAY_RATE)))\n",
        "#   model.add(Conv2D(896, (2, 2), padding='same', kernel_regularizer=l2(L2_DECAY_RATE)))\n",
        "#   model.add(Activation('elu'))\n",
        "#   model.add(MaxPooling2D(pool_size=(2, 2), padding='same'))\n",
        "#   model.add(Dropout(INIT_DROPOUT_RATE))\n",
        "#   # Stack 5:\n",
        "#   model.add(Conv2D(896, (3, 3), padding='same', kernel_regularizer=l2(L2_DECAY_RATE)))\n",
        "#   model.add(Conv2D(1024, (2, 2), padding='same', kernel_regularizer=l2(L2_DECAY_RATE)))\n",
        "#   model.add(Conv2D(1024, (2, 2), padding='same', kernel_regularizer=l2(L2_DECAY_RATE)))\n",
        "#   model.add(Activation('elu'))\n",
        "#   model.add(MaxPooling2D(pool_size=(2, 2), padding='same'))\n",
        "#   model.add(Dropout(INIT_DROPOUT_RATE))\n",
        "#   # Stack 6:\n",
        "#   model.add(Conv2D(1024, (1, 1), padding='same', kernel_regularizer=l2(L2_DECAY_RATE)))\n",
        "#   model.add(Conv2D(1152, (2, 2), padding='same', kernel_regularizer=l2(L2_DECAY_RATE)))\n",
        "#   model.add(Activation('elu'))\n",
        "#   model.add(MaxPooling2D(pool_size=(2, 2), padding='same'))\n",
        "#   model.add(Dropout(INIT_DROPOUT_RATE))\n",
        "#   # Stack 7:\n",
        "#   model.add(Conv2D(1152, (1, 1), padding='same', kernel_regularizer=l2(L2_DECAY_RATE)))\n",
        "#   model.add(Activation('elu'))\n",
        "#   model.add(MaxPooling2D(pool_size=(2, 2), padding='same'))\n",
        "#   model.add(Dropout(INIT_DROPOUT_RATE))\n",
        "#   model.add(Flatten())\n",
        "#   model.add(Dense(NUM_CLASSES))\n",
        "#   model.add(Activation('softmax'))\n",
        "m=createModel()\n",
        "\n",
        "m.summary()\n"
      ],
      "execution_count": 0,
      "outputs": [
        {
          "output_type": "stream",
          "text": [
            "_________________________________________________________________\n",
            "Layer (type)                 Output Shape              Param #   \n",
            "=================================================================\n",
            "conv2d_274 (Conv2D)          (None, 32, 32, 32)        896       \n",
            "_________________________________________________________________\n",
            "activation_25 (Activation)   (None, 32, 32, 32)        0         \n",
            "_________________________________________________________________\n",
            "conv2d_275 (Conv2D)          (None, 30, 30, 32)        9248      \n",
            "_________________________________________________________________\n",
            "conv2d_276 (Conv2D)          (None, 30, 30, 32)        9248      \n",
            "_________________________________________________________________\n",
            "conv2d_277 (Conv2D)          (None, 30, 30, 32)        9248      \n",
            "_________________________________________________________________\n",
            "max_pooling2d_76 (MaxPooling (None, 15, 15, 32)        0         \n",
            "_________________________________________________________________\n",
            "dropout_95 (Dropout)         (None, 15, 15, 32)        0         \n",
            "_________________________________________________________________\n",
            "conv2d_278 (Conv2D)          (None, 15, 15, 64)        18496     \n",
            "_________________________________________________________________\n",
            "conv2d_279 (Conv2D)          (None, 13, 13, 64)        36928     \n",
            "_________________________________________________________________\n",
            "conv2d_280 (Conv2D)          (None, 13, 13, 64)        36928     \n",
            "_________________________________________________________________\n",
            "conv2d_281 (Conv2D)          (None, 13, 13, 64)        36928     \n",
            "_________________________________________________________________\n",
            "max_pooling2d_77 (MaxPooling (None, 7, 7, 64)          0         \n",
            "_________________________________________________________________\n",
            "dropout_96 (Dropout)         (None, 7, 7, 64)          0         \n",
            "_________________________________________________________________\n",
            "conv2d_282 (Conv2D)          (None, 7, 7, 64)          36928     \n",
            "_________________________________________________________________\n",
            "conv2d_283 (Conv2D)          (None, 5, 5, 64)          36928     \n",
            "_________________________________________________________________\n",
            "conv2d_284 (Conv2D)          (None, 5, 5, 64)          36928     \n",
            "_________________________________________________________________\n",
            "conv2d_285 (Conv2D)          (None, 5, 5, 64)          36928     \n",
            "_________________________________________________________________\n",
            "max_pooling2d_78 (MaxPooling (None, 2, 2, 64)          0         \n",
            "_________________________________________________________________\n",
            "dropout_97 (Dropout)         (None, 2, 2, 64)          0         \n",
            "_________________________________________________________________\n",
            "conv2d_286 (Conv2D)          (None, 2, 2, 64)          36928     \n",
            "_________________________________________________________________\n",
            "conv2d_287 (Conv2D)          (None, 2, 2, 64)          36928     \n",
            "_________________________________________________________________\n",
            "conv2d_288 (Conv2D)          (None, 2, 2, 64)          36928     \n",
            "_________________________________________________________________\n",
            "max_pooling2d_79 (MaxPooling (None, 1, 1, 64)          0         \n",
            "_________________________________________________________________\n",
            "dropout_98 (Dropout)         (None, 1, 1, 64)          0         \n",
            "_________________________________________________________________\n",
            "flatten_21 (Flatten)         (None, 64)                0         \n",
            "_________________________________________________________________\n",
            "dense_41 (Dense)             (None, 512)               33280     \n",
            "_________________________________________________________________\n",
            "dropout_99 (Dropout)         (None, 512)               0         \n",
            "_________________________________________________________________\n",
            "dense_42 (Dense)             (None, 100)               51300     \n",
            "=================================================================\n",
            "Total params: 500,996\n",
            "Trainable params: 500,996\n",
            "Non-trainable params: 0\n",
            "_________________________________________________________________\n"
          ],
          "name": "stdout"
        }
      ]
    },
    {
      "metadata": {
        "id": "_34tdeUv_rAG",
        "colab_type": "text"
      },
      "cell_type": "markdown",
      "source": [
        "## Train the model"
      ]
    },
    {
      "metadata": {
        "id": "57NxY09vte8j",
        "colab_type": "code",
        "outputId": "f5ba9d90-e007-4655-9a3d-b571d4f8098c",
        "colab": {
          "base_uri": "https://localhost:8080/",
          "height": 252
        }
      },
      "cell_type": "code",
      "source": [
        "!wget https://bin.equinox.io/c/4VmDzA7iaHb/ngrok-stable-linux-amd64.zip\n",
        "!unzip ngrok-stable-linux-amd64.zip\n",
        "LOG_DIR = './log'\n",
        "get_ipython().system_raw(\n",
        "    'tensorboard --logdir {} --host 0.0.0.0 --port 6006 &'\n",
        "    .format(LOG_DIR)\n",
        ")\n",
        "get_ipython().system_raw('./ngrok http 6006 &')\n",
        "! curl -s http://localhost:4040/api/tunnels | python3 -c \\\n",
        "    \"import sys, json; print(json.load(sys.stdin)['tunnels'][0]['public_url'])\""
      ],
      "execution_count": 0,
      "outputs": [
        {
          "output_type": "stream",
          "text": [
            "--2019-01-21 14:01:22--  https://bin.equinox.io/c/4VmDzA7iaHb/ngrok-stable-linux-amd64.zip\n",
            "Resolving bin.equinox.io (bin.equinox.io)... 35.172.177.65, 34.232.40.183, 34.226.180.131, ...\n",
            "Connecting to bin.equinox.io (bin.equinox.io)|35.172.177.65|:443... connected.\n",
            "HTTP request sent, awaiting response... 200 OK\n",
            "Length: 5363700 (5.1M) [application/octet-stream]\n",
            "Saving to: ‘ngrok-stable-linux-amd64.zip’\n",
            "\n",
            "ngrok-stable-linux- 100%[===================>]   5.11M  3.47MB/s    in 1.5s    \n",
            "\n",
            "2019-01-21 14:01:25 (3.47 MB/s) - ‘ngrok-stable-linux-amd64.zip’ saved [5363700/5363700]\n",
            "\n",
            "Archive:  ngrok-stable-linux-amd64.zip\n",
            "  inflating: ngrok                   \n",
            "https://eb5bfb4e.ngrok.io\n"
          ],
          "name": "stdout"
        }
      ]
    },
    {
      "metadata": {
        "scrolled": false,
        "id": "_V2j5eJc_rAI",
        "colab_type": "code",
        "outputId": "5c418095-7574-4700-b3ec-85818d7a4c29",
        "colab": {
          "base_uri": "https://localhost:8080/",
          "height": 1915
        }
      },
      "cell_type": "code",
      "source": [
        "model1 = createModel()\n",
        "batch_size = 256\n",
        "epochs = 500\n",
        "MODEL_PATH= \"m.h5\"\n",
        "checkpointer = ModelCheckpoint(MODEL_PATH, save_best_only=True)\n",
        "tbCallBack = TensorBoard(log_dir='./log', histogram_freq=1,\n",
        "                         write_graph=True,\n",
        "                         write_grads=True,\n",
        "                         batch_size=batch_size,\n",
        "                         write_images=True)\n",
        "model1.compile(optimizer='rmsprop', loss='categorical_crossentropy', metrics=['accuracy'])\n",
        "\n",
        "model1.summary()\n",
        "\n",
        "history = model1.fit(train_data, train_labels_one_hot, batch_size=batch_size, epochs=epochs,callbacks=[ checkpointer , tbCallBack ], verbose=1, \n",
        "                   validation_data=(test_data, test_labels_one_hot))\n",
        "model1.evaluate(test_data, test_labels_one_hot)"
      ],
      "execution_count": 0,
      "outputs": [
        {
          "output_type": "stream",
          "text": [
            "_________________________________________________________________\n",
            "Layer (type)                 Output Shape              Param #   \n",
            "=================================================================\n",
            "conv2d_334 (Conv2D)          (None, 32, 32, 32)        896       \n",
            "_________________________________________________________________\n",
            "activation_29 (Activation)   (None, 32, 32, 32)        0         \n",
            "_________________________________________________________________\n",
            "conv2d_335 (Conv2D)          (None, 30, 30, 32)        9248      \n",
            "_________________________________________________________________\n",
            "conv2d_336 (Conv2D)          (None, 30, 30, 32)        9248      \n",
            "_________________________________________________________________\n",
            "conv2d_337 (Conv2D)          (None, 30, 30, 32)        9248      \n",
            "_________________________________________________________________\n",
            "max_pooling2d_92 (MaxPooling (None, 15, 15, 32)        0         \n",
            "_________________________________________________________________\n",
            "dropout_115 (Dropout)        (None, 15, 15, 32)        0         \n",
            "_________________________________________________________________\n",
            "conv2d_338 (Conv2D)          (None, 15, 15, 64)        18496     \n",
            "_________________________________________________________________\n",
            "conv2d_339 (Conv2D)          (None, 13, 13, 64)        36928     \n",
            "_________________________________________________________________\n",
            "conv2d_340 (Conv2D)          (None, 13, 13, 64)        36928     \n",
            "_________________________________________________________________\n",
            "conv2d_341 (Conv2D)          (None, 13, 13, 64)        36928     \n",
            "_________________________________________________________________\n",
            "max_pooling2d_93 (MaxPooling (None, 7, 7, 64)          0         \n",
            "_________________________________________________________________\n",
            "dropout_116 (Dropout)        (None, 7, 7, 64)          0         \n",
            "_________________________________________________________________\n",
            "conv2d_342 (Conv2D)          (None, 7, 7, 64)          36928     \n",
            "_________________________________________________________________\n",
            "conv2d_343 (Conv2D)          (None, 5, 5, 64)          36928     \n",
            "_________________________________________________________________\n",
            "conv2d_344 (Conv2D)          (None, 5, 5, 64)          36928     \n",
            "_________________________________________________________________\n",
            "conv2d_345 (Conv2D)          (None, 5, 5, 64)          36928     \n",
            "_________________________________________________________________\n",
            "max_pooling2d_94 (MaxPooling (None, 2, 2, 64)          0         \n",
            "_________________________________________________________________\n",
            "dropout_117 (Dropout)        (None, 2, 2, 64)          0         \n",
            "_________________________________________________________________\n",
            "conv2d_346 (Conv2D)          (None, 2, 2, 64)          36928     \n",
            "_________________________________________________________________\n",
            "conv2d_347 (Conv2D)          (None, 2, 2, 64)          36928     \n",
            "_________________________________________________________________\n",
            "conv2d_348 (Conv2D)          (None, 2, 2, 64)          36928     \n",
            "_________________________________________________________________\n",
            "max_pooling2d_95 (MaxPooling (None, 1, 1, 64)          0         \n",
            "_________________________________________________________________\n",
            "dropout_118 (Dropout)        (None, 1, 1, 64)          0         \n",
            "_________________________________________________________________\n",
            "flatten_25 (Flatten)         (None, 64)                0         \n",
            "_________________________________________________________________\n",
            "dense_49 (Dense)             (None, 512)               33280     \n",
            "_________________________________________________________________\n",
            "dropout_119 (Dropout)        (None, 512)               0         \n",
            "_________________________________________________________________\n",
            "dense_50 (Dense)             (None, 100)               51300     \n",
            "=================================================================\n",
            "Total params: 500,996\n",
            "Trainable params: 500,996\n",
            "Non-trainable params: 0\n",
            "_________________________________________________________________\n",
            "Train on 50000 samples, validate on 10000 samples\n",
            "Epoch 1/500\n",
            "50000/50000 [==============================] - 22s 449us/step - loss: 4.6086 - acc: 0.0088 - val_loss: 4.6052 - val_acc: 0.0100\n",
            "Epoch 2/500\n",
            "50000/50000 [==============================] - 20s 396us/step - loss: 4.6058 - acc: 0.0086 - val_loss: 4.6052 - val_acc: 0.0100\n",
            "Epoch 3/500\n",
            "50000/50000 [==============================] - 20s 396us/step - loss: 4.5925 - acc: 0.0126 - val_loss: 4.4850 - val_acc: 0.0184\n",
            "Epoch 4/500\n",
            "50000/50000 [==============================] - 20s 396us/step - loss: 4.4611 - acc: 0.0232 - val_loss: 4.3812 - val_acc: 0.0276\n",
            "Epoch 5/500\n",
            "50000/50000 [==============================] - 20s 397us/step - loss: 4.3365 - acc: 0.0317 - val_loss: 4.2503 - val_acc: 0.0396\n",
            "Epoch 6/500\n",
            "50000/50000 [==============================] - 20s 397us/step - loss: 4.2301 - acc: 0.0422 - val_loss: 4.2175 - val_acc: 0.0488\n",
            "Epoch 7/500\n",
            "50000/50000 [==============================] - 20s 395us/step - loss: 4.1333 - acc: 0.0516 - val_loss: 4.0648 - val_acc: 0.0621\n",
            "Epoch 8/500\n",
            "50000/50000 [==============================] - 20s 400us/step - loss: 4.0386 - acc: 0.0622 - val_loss: 4.1225 - val_acc: 0.0677\n",
            "Epoch 9/500\n",
            "50000/50000 [==============================] - 20s 404us/step - loss: 3.9507 - acc: 0.0776 - val_loss: 3.9544 - val_acc: 0.0841\n",
            "Epoch 10/500\n",
            "50000/50000 [==============================] - 20s 402us/step - loss: 3.8819 - acc: 0.0897 - val_loss: 3.8163 - val_acc: 0.0954\n",
            "Epoch 11/500\n",
            "50000/50000 [==============================] - 20s 402us/step - loss: 3.8156 - acc: 0.0987 - val_loss: 3.7003 - val_acc: 0.1153\n",
            "Epoch 12/500\n",
            "50000/50000 [==============================] - 20s 402us/step - loss: 3.7575 - acc: 0.1101 - val_loss: 3.8838 - val_acc: 0.0954\n",
            "Epoch 13/500\n",
            "50000/50000 [==============================] - 20s 398us/step - loss: 3.7061 - acc: 0.1198 - val_loss: 3.6206 - val_acc: 0.1345\n",
            "Epoch 14/500\n",
            "50000/50000 [==============================] - 20s 399us/step - loss: 3.6486 - acc: 0.1288 - val_loss: 3.5532 - val_acc: 0.1479\n",
            "Epoch 15/500\n",
            "50000/50000 [==============================] - 20s 400us/step - loss: 3.5903 - acc: 0.1401 - val_loss: 3.6349 - val_acc: 0.1396\n",
            "Epoch 16/500\n",
            "50000/50000 [==============================] - 20s 403us/step - loss: 3.5368 - acc: 0.1508 - val_loss: 3.6178 - val_acc: 0.1420\n",
            "Epoch 17/500\n",
            "50000/50000 [==============================] - 20s 402us/step - loss: 3.4952 - acc: 0.1550 - val_loss: 3.5311 - val_acc: 0.1612\n",
            "Epoch 18/500\n",
            "50000/50000 [==============================] - 20s 400us/step - loss: 3.4505 - acc: 0.1672 - val_loss: 3.4680 - val_acc: 0.1759\n",
            "Epoch 19/500\n",
            "50000/50000 [==============================] - 20s 403us/step - loss: 3.4067 - acc: 0.1751 - val_loss: 3.5493 - val_acc: 0.1646\n",
            "Epoch 20/500\n",
            "50000/50000 [==============================] - 20s 404us/step - loss: 3.3654 - acc: 0.1832 - val_loss: 3.3498 - val_acc: 0.1911\n",
            "Epoch 21/500\n",
            "50000/50000 [==============================] - 20s 407us/step - loss: 3.3262 - acc: 0.1890 - val_loss: 3.3111 - val_acc: 0.1992\n",
            "Epoch 22/500\n",
            "50000/50000 [==============================] - 20s 404us/step - loss: 3.2835 - acc: 0.1984 - val_loss: 3.2269 - val_acc: 0.2150\n",
            "Epoch 23/500\n",
            "50000/50000 [==============================] - 20s 402us/step - loss: 3.2551 - acc: 0.2046 - val_loss: 3.2641 - val_acc: 0.2026\n"
          ],
          "name": "stdout"
        }
      ]
    },
    {
      "metadata": {
        "id": "s-1TOROVOHqW",
        "colab_type": "code",
        "outputId": "c7bbd1c9-2fed-4f6c-be36-90619ac76198",
        "colab": {
          "base_uri": "https://localhost:8080/",
          "height": 320
        }
      },
      "cell_type": "code",
      "source": [
        "a=test_images[145,:,:]\n",
        "plt.imshow(a, cmap='gray')\n",
        "print(\"truth: \",test_labels[145])\n",
        "print(a.shape)\n",
        "i= a.reshape(1,32,32,3)\n",
        "t=model1.predict_classes(i)\n",
        "print(\"prediction: \",t)\n",
        "if t==0:\n",
        "  print(\"airplane\")\n",
        "if t==1:\n",
        "  print(\"automobile\")\n",
        "if t==2:\n",
        "  print(\"bird\")\n",
        "if t==3:\n",
        "  print(\"cat\")\n",
        "if t==4:\n",
        "  print(\"deer\")\n",
        "if t==5:\n",
        "  print(\"dog\")  \n",
        "if t==6:\n",
        "  print(\"frog\")\n",
        "if t==7:\n",
        "  print(\"horse\")  \n",
        "if t==8:\n",
        "  print(\"ship\")\n",
        "if t==9:\n",
        "  print(\"truck\")\n",
        "  "
      ],
      "execution_count": 0,
      "outputs": [
        {
          "output_type": "stream",
          "text": [
            "truth:  [95]\n",
            "(32, 32, 3)\n",
            "prediction:  [40]\n"
          ],
          "name": "stdout"
        },
        {
          "output_type": "display_data",
          "data": {
            "image/png": "[encoded data removed]",
            "text/plain": [
              "<Figure size 432x288 with 1 Axes>"
            ]
          },
          "metadata": {
            "tags": []
          }
        }
      ]
    },
    {
      "metadata": {
        "id": "viiFjG7HSfJJ",
        "colab_type": "code",
        "outputId": "78e0862f-41f5-4013-c6d3-fdd0b5b8b8d1",
        "colab": {
          "base_uri": "https://localhost:8080/",
          "height": 241
        }
      },
      "cell_type": "code",
      "source": [
        "img = Image.open(\"5.jpg\") \n",
        "width, height = img.size \n",
        "print(width)\n",
        "print(height)\n",
        "img = img.resize((width, width))  \n",
        "width, height = img.size \n",
        "print(width)\n",
        "print(height)\n",
        "img = img.resize((28, 28))  \n",
        "width, height = img.size \n",
        "print(width)\n",
        "print(height)"
      ],
      "execution_count": 0,
      "outputs": [
        {
          "output_type": "error",
          "ename": "NameError",
          "evalue": "ignored",
          "traceback": [
            "\u001b[0;31m\u001b[0m",
            "\u001b[0;31mNameError\u001b[0mTraceback (most recent call last)",
            "\u001b[0;32m<ipython-input-14-6a35ab364f8e>\u001b[0m in \u001b[0;36m<module>\u001b[0;34m()\u001b[0m\n\u001b[0;32m----> 1\u001b[0;31m \u001b[0mimg\u001b[0m \u001b[0;34m=\u001b[0m \u001b[0mImage\u001b[0m\u001b[0;34m.\u001b[0m\u001b[0mopen\u001b[0m\u001b[0;34m(\u001b[0m\u001b[0;34m\"5.jpg\"\u001b[0m\u001b[0;34m)\u001b[0m\u001b[0;34m\u001b[0m\u001b[0m\n\u001b[0m\u001b[1;32m      2\u001b[0m \u001b[0mwidth\u001b[0m\u001b[0;34m,\u001b[0m \u001b[0mheight\u001b[0m \u001b[0;34m=\u001b[0m \u001b[0mimg\u001b[0m\u001b[0;34m.\u001b[0m\u001b[0msize\u001b[0m\u001b[0;34m\u001b[0m\u001b[0m\n\u001b[1;32m      3\u001b[0m \u001b[0;32mprint\u001b[0m\u001b[0;34m(\u001b[0m\u001b[0mwidth\u001b[0m\u001b[0;34m)\u001b[0m\u001b[0;34m\u001b[0m\u001b[0m\n\u001b[1;32m      4\u001b[0m \u001b[0;32mprint\u001b[0m\u001b[0;34m(\u001b[0m\u001b[0mheight\u001b[0m\u001b[0;34m)\u001b[0m\u001b[0;34m\u001b[0m\u001b[0m\n\u001b[1;32m      5\u001b[0m \u001b[0mimg\u001b[0m \u001b[0;34m=\u001b[0m \u001b[0mimg\u001b[0m\u001b[0;34m.\u001b[0m\u001b[0mresize\u001b[0m\u001b[0;34m(\u001b[0m\u001b[0;34m(\u001b[0m\u001b[0mwidth\u001b[0m\u001b[0;34m,\u001b[0m \u001b[0mwidth\u001b[0m\u001b[0;34m)\u001b[0m\u001b[0;34m)\u001b[0m\u001b[0;34m\u001b[0m\u001b[0m\n",
            "\u001b[0;31mNameError\u001b[0m: name 'Image' is not defined"
          ]
        }
      ]
    },
    {
      "metadata": {
        "id": "oG3ZT7ihQBhr",
        "colab_type": "code",
        "colab": {}
      },
      "cell_type": "code",
      "source": [
        "from keras.models import load_model\n",
        "\n",
        "model1.save('my_model.h5')  "
      ],
      "execution_count": 0,
      "outputs": []
    },
    {
      "metadata": {
        "id": "93RWkTJ__rAL",
        "colab_type": "text"
      },
      "cell_type": "markdown",
      "source": [
        "## Check the loss and accuracy curves"
      ]
    },
    {
      "metadata": {
        "id": "QgZEdz54_rAN",
        "colab_type": "code",
        "outputId": "34411d71-51d3-460a-b213-3764802a786f",
        "colab": {
          "base_uri": "https://localhost:8080/",
          "height": 429
        }
      },
      "cell_type": "code",
      "source": [
        "plt.figure(figsize=[8,6])\n",
        "plt.plot(history.history['loss'],'r',linewidth=3.0)\n",
        "plt.plot(history.history['val_loss'],'b',linewidth=3.0)\n",
        "plt.legend(['Training loss', 'Validation Loss'],fontsize=18)\n",
        "plt.xlabel('Epochs ',fontsize=16)\n",
        "plt.ylabel('Loss',fontsize=16)\n",
        "plt.title('Loss Curves',fontsize=16)"
      ],
      "execution_count": 0,
      "outputs": [
        {
          "output_type": "execute_result",
          "data": {
            "text/plain": [
              "Text(0.5,1,'Loss Curves')"
            ]
          },
          "metadata": {
            "tags": []
          },
          "execution_count": 12
        },
        {
          "output_type": "display_data",
          "data": {
            "image/png": "[encoded data removed]",
            "text/plain": [
              "<Figure size 576x432 with 1 Axes>"
            ]
          },
          "metadata": {
            "tags": []
          }
        }
      ]
    },
    {
      "metadata": {
        "id": "jdAJjZ0i_rAQ",
        "colab_type": "code",
        "outputId": "454d33d9-a22f-4e54-81bc-1ab7f9a25d76",
        "colab": {
          "base_uri": "https://localhost:8080/",
          "height": 429
        }
      },
      "cell_type": "code",
      "source": [
        "plt.figure(figsize=[8,6])\n",
        "plt.plot(history.history['acc'],'r',linewidth=3.0)\n",
        "plt.plot(history.history['val_acc'],'b',linewidth=3.0)\n",
        "plt.legend(['Training Accuracy', 'Validation Accuracy'],fontsize=18)\n",
        "plt.xlabel('Epochs ',fontsize=16)\n",
        "plt.ylabel('Accuracy',fontsize=16)\n",
        "plt.title('Accuracy Curves',fontsize=16)"
      ],
      "execution_count": 0,
      "outputs": [
        {
          "output_type": "execute_result",
          "data": {
            "text/plain": [
              "Text(0.5,1,'Accuracy Curves')"
            ]
          },
          "metadata": {
            "tags": []
          },
          "execution_count": 13
        },
        {
          "output_type": "display_data",
          "data": {
            "image/png": "[encoded data removed]",
            "text/plain": [
              "<Figure size 576x432 with 1 Axes>"
            ]
          },
          "metadata": {
            "tags": []
          }
        }
      ]
    },
    {
      "metadata": {
        "id": "lL5XarYl_rAU",
        "colab_type": "text"
      },
      "cell_type": "markdown",
      "source": [
        "## Train using Data Augmentation\n",
        "Here we use the ImageDataGenerator class in Keras to perform Data Augmentation. We perform horizontal and vertical shift of the image and also flipping the image randomly."
      ]
    },
    {
      "metadata": {
        "id": "UgDDJdMc_rAW",
        "colab_type": "code",
        "outputId": "8347a0f4-af65-4910-f6e2-b4baded6849b",
        "colab": {
          "base_uri": "https://localhost:8080/",
          "height": 1853
        }
      },
      "cell_type": "code",
      "source": [
        "from keras.preprocessing.image import ImageDataGenerator\n",
        "\n",
        "model2 = createModel()\n",
        "\n",
        "model2.compile(optimizer='rmsprop', loss='categorical_crossentropy', metrics=['accuracy'])\n",
        "\n",
        "batch_size = 256\n",
        "epochs = 50\n",
        "datagen = ImageDataGenerator(\n",
        "#         zoom_range=0.2, # randomly zoom into images\n",
        "#         rotation_range=10,  # randomly rotate images in the range (degrees, 0 to 180)\n",
        "        width_shift_range=0.1,  # randomly shift images horizontally (fraction of total width)\n",
        "        height_shift_range=0.1,  # randomly shift images vertically (fraction of total height)\n",
        "        horizontal_flip=True,  # randomly flip images\n",
        "        vertical_flip=False)  # randomly flip images\n",
        "\n",
        "\n",
        "# datagen.fit(train_data)\n",
        "\n",
        "# Fit the model on the batches generated by datagen.flow().\n",
        "history2 = model2.fit_generator(datagen.flow(train_data, train_labels_one_hot, batch_size=batch_size),\n",
        "                              steps_per_epoch=int(np.ceil(train_data.shape[0] / float(batch_size))),\n",
        "                              epochs=epochs,\n",
        "                              validation_data=(test_data, test_labels_one_hot),\n",
        "                              workers=4)\n",
        "\n",
        "model2.evaluate(test_data, test_labels_one_hot)"
      ],
      "execution_count": 0,
      "outputs": [
        {
          "output_type": "stream",
          "text": [
            "Epoch 1/50\n",
            "196/196 [==============================] - 32s 166ms/step - loss: 2.0835 - acc: 0.2325 - val_loss: 1.8228 - val_acc: 0.3255\n",
            "Epoch 2/50\n",
            "196/196 [==============================] - 30s 152ms/step - loss: 1.7647 - acc: 0.3518 - val_loss: 1.6824 - val_acc: 0.4030\n",
            "Epoch 3/50\n",
            "196/196 [==============================] - 30s 153ms/step - loss: 1.5943 - acc: 0.4182 - val_loss: 1.5507 - val_acc: 0.4385\n",
            "Epoch 4/50\n",
            "196/196 [==============================] - 30s 154ms/step - loss: 1.4742 - acc: 0.4671 - val_loss: 1.4079 - val_acc: 0.5058\n",
            "Epoch 5/50\n",
            "196/196 [==============================] - 30s 154ms/step - loss: 1.3773 - acc: 0.5054 - val_loss: 1.1829 - val_acc: 0.5682\n",
            "Epoch 6/50\n",
            "196/196 [==============================] - 31s 157ms/step - loss: 1.3113 - acc: 0.5274 - val_loss: 1.1844 - val_acc: 0.5662\n",
            "Epoch 7/50\n",
            "196/196 [==============================] - 31s 158ms/step - loss: 1.2508 - acc: 0.5564 - val_loss: 1.1338 - val_acc: 0.5882\n",
            "Epoch 8/50\n",
            "196/196 [==============================] - 31s 156ms/step - loss: 1.1954 - acc: 0.5748 - val_loss: 1.0661 - val_acc: 0.6227\n",
            "Epoch 9/50\n",
            "196/196 [==============================] - 31s 156ms/step - loss: 1.1483 - acc: 0.5940 - val_loss: 1.1257 - val_acc: 0.6055\n",
            "Epoch 10/50\n",
            "196/196 [==============================] - 30s 156ms/step - loss: 1.1020 - acc: 0.6102 - val_loss: 0.9906 - val_acc: 0.6442\n",
            "Epoch 11/50\n",
            "196/196 [==============================] - 30s 155ms/step - loss: 1.0650 - acc: 0.6273 - val_loss: 0.9889 - val_acc: 0.6552\n",
            "Epoch 12/50\n",
            "196/196 [==============================] - 31s 156ms/step - loss: 1.0187 - acc: 0.6427 - val_loss: 0.9470 - val_acc: 0.6725\n",
            "Epoch 13/50\n",
            "196/196 [==============================] - 30s 154ms/step - loss: 0.9850 - acc: 0.6549 - val_loss: 0.9850 - val_acc: 0.6701\n",
            "Epoch 14/50\n",
            "196/196 [==============================] - 30s 155ms/step - loss: 0.9557 - acc: 0.6659 - val_loss: 0.9335 - val_acc: 0.6733\n",
            "Epoch 15/50\n",
            "196/196 [==============================] - 31s 156ms/step - loss: 0.9208 - acc: 0.6782 - val_loss: 0.8392 - val_acc: 0.7088\n",
            "Epoch 16/50\n",
            "196/196 [==============================] - 30s 155ms/step - loss: 0.9054 - acc: 0.6854 - val_loss: 1.0136 - val_acc: 0.6573\n",
            "Epoch 17/50\n",
            "196/196 [==============================] - 31s 156ms/step - loss: 0.8812 - acc: 0.6914 - val_loss: 0.8135 - val_acc: 0.7207\n",
            "Epoch 18/50\n",
            "196/196 [==============================] - 31s 157ms/step - loss: 0.8649 - acc: 0.7019 - val_loss: 0.8170 - val_acc: 0.7159\n",
            "Epoch 19/50\n",
            "196/196 [==============================] - 30s 153ms/step - loss: 0.8380 - acc: 0.7085 - val_loss: 0.7845 - val_acc: 0.7386\n",
            "Epoch 20/50\n",
            "196/196 [==============================] - 31s 156ms/step - loss: 0.8224 - acc: 0.7144 - val_loss: 1.1334 - val_acc: 0.6424\n",
            "Epoch 21/50\n",
            "196/196 [==============================] - 30s 154ms/step - loss: 0.8162 - acc: 0.7199 - val_loss: 0.8509 - val_acc: 0.7184\n",
            "Epoch 22/50\n",
            "196/196 [==============================] - 30s 154ms/step - loss: 0.7995 - acc: 0.7253 - val_loss: 0.6828 - val_acc: 0.7683\n",
            "Epoch 23/50\n",
            "196/196 [==============================] - 30s 155ms/step - loss: 0.7863 - acc: 0.7281 - val_loss: 0.8043 - val_acc: 0.7255\n",
            "Epoch 24/50\n",
            "196/196 [==============================] - 30s 154ms/step - loss: 0.7761 - acc: 0.7309 - val_loss: 0.6949 - val_acc: 0.7621\n",
            "Epoch 25/50\n",
            "196/196 [==============================] - 30s 153ms/step - loss: 0.7616 - acc: 0.7370 - val_loss: 0.7940 - val_acc: 0.7305\n",
            "Epoch 26/50\n",
            "196/196 [==============================] - 30s 154ms/step - loss: 0.7499 - acc: 0.7409 - val_loss: 0.7927 - val_acc: 0.7339\n",
            "Epoch 27/50\n",
            "196/196 [==============================] - 30s 153ms/step - loss: 0.7509 - acc: 0.7443 - val_loss: 0.6816 - val_acc: 0.7673\n",
            "Epoch 28/50\n",
            "196/196 [==============================] - 30s 154ms/step - loss: 0.7374 - acc: 0.7481 - val_loss: 0.7581 - val_acc: 0.7462\n",
            "Epoch 29/50\n",
            "196/196 [==============================] - 30s 155ms/step - loss: 0.7310 - acc: 0.7485 - val_loss: 0.7286 - val_acc: 0.7586\n",
            "Epoch 30/50\n",
            "196/196 [==============================] - 30s 153ms/step - loss: 0.7226 - acc: 0.7534 - val_loss: 0.6725 - val_acc: 0.7791\n",
            "Epoch 31/50\n",
            "196/196 [==============================] - 30s 155ms/step - loss: 0.7158 - acc: 0.7547 - val_loss: 0.6376 - val_acc: 0.7852\n",
            "Epoch 32/50\n",
            "196/196 [==============================] - 30s 154ms/step - loss: 0.7116 - acc: 0.7570 - val_loss: 0.6823 - val_acc: 0.7710\n",
            "Epoch 33/50\n",
            "196/196 [==============================] - 30s 154ms/step - loss: 0.7035 - acc: 0.7593 - val_loss: 0.6464 - val_acc: 0.7827\n",
            "Epoch 34/50\n",
            "196/196 [==============================] - 30s 154ms/step - loss: 0.7008 - acc: 0.7608 - val_loss: 0.6910 - val_acc: 0.7632\n",
            "Epoch 35/50\n",
            "196/196 [==============================] - 30s 153ms/step - loss: 0.6949 - acc: 0.7640 - val_loss: 0.6587 - val_acc: 0.7748\n",
            "Epoch 36/50\n",
            "196/196 [==============================] - 31s 157ms/step - loss: 0.6825 - acc: 0.7649 - val_loss: 0.6058 - val_acc: 0.7978\n",
            "Epoch 37/50\n",
            "196/196 [==============================] - 30s 154ms/step - loss: 0.6853 - acc: 0.7654 - val_loss: 0.6590 - val_acc: 0.7827\n",
            "Epoch 38/50\n",
            "196/196 [==============================] - 30s 154ms/step - loss: 0.6803 - acc: 0.7680 - val_loss: 0.5650 - val_acc: 0.8102\n",
            "Epoch 39/50\n",
            "196/196 [==============================] - 31s 156ms/step - loss: 0.6745 - acc: 0.7716 - val_loss: 0.6307 - val_acc: 0.7869\n",
            "Epoch 40/50\n",
            "196/196 [==============================] - 30s 153ms/step - loss: 0.6671 - acc: 0.7721 - val_loss: 0.6004 - val_acc: 0.7990\n",
            "Epoch 41/50\n",
            "196/196 [==============================] - 30s 153ms/step - loss: 0.6678 - acc: 0.7736 - val_loss: 0.6199 - val_acc: 0.7842\n",
            "Epoch 42/50\n",
            "196/196 [==============================] - 30s 155ms/step - loss: 0.6721 - acc: 0.7727 - val_loss: 0.7162 - val_acc: 0.7566\n",
            "Epoch 43/50\n",
            "196/196 [==============================] - 30s 152ms/step - loss: 0.6653 - acc: 0.7744 - val_loss: 0.7470 - val_acc: 0.7558\n",
            "Epoch 44/50\n",
            "196/196 [==============================] - 31s 157ms/step - loss: 0.6610 - acc: 0.7753 - val_loss: 0.6319 - val_acc: 0.7912\n",
            "Epoch 45/50\n",
            "196/196 [==============================] - 30s 154ms/step - loss: 0.6552 - acc: 0.7784 - val_loss: 0.7153 - val_acc: 0.7679\n",
            "Epoch 46/50\n",
            "196/196 [==============================] - 30s 153ms/step - loss: 0.6585 - acc: 0.7771 - val_loss: 0.7183 - val_acc: 0.7667\n",
            "Epoch 47/50\n",
            "196/196 [==============================] - 31s 156ms/step - loss: 0.6552 - acc: 0.7793 - val_loss: 0.6236 - val_acc: 0.7898\n",
            "Epoch 48/50\n",
            "196/196 [==============================] - 30s 154ms/step - loss: 0.6493 - acc: 0.7814 - val_loss: 0.7308 - val_acc: 0.7556\n",
            "Epoch 49/50\n",
            "196/196 [==============================] - 31s 158ms/step - loss: 0.6479 - acc: 0.7800 - val_loss: 0.6362 - val_acc: 0.7835\n",
            "Epoch 50/50\n",
            "196/196 [==============================] - 30s 155ms/step - loss: 0.6509 - acc: 0.7822 - val_loss: 0.8307 - val_acc: 0.7313\n",
            "10000/10000 [==============================] - 2s 178us/step\n"
          ],
          "name": "stdout"
        },
        {
          "output_type": "execute_result",
          "data": {
            "text/plain": [
              "[0.8307213270187378, 0.7313]"
            ]
          },
          "metadata": {
            "tags": []
          },
          "execution_count": 20
        }
      ]
    },
    {
      "metadata": {
        "id": "DMngUG_A_rAc",
        "colab_type": "code",
        "outputId": "d9112c41-87ec-4b7f-bde2-69ed42fca31e",
        "colab": {
          "base_uri": "https://localhost:8080/",
          "height": 133
        }
      },
      "cell_type": "code",
      "source": [
        "plt.figure(figsize=[8,6])\n",
        "plt.plot(history2.history['loss'],'r',linewidth=3.0)\n",
        "plt.plot(history2.history['val_loss'],'b',linewidth=3.0)\n",
        "plt.legend(['Training loss', 'Validation Losmodel2.samodel2.model2\n",
        "s'],fontsize=18)\n",
        "plt.xlabel('Epochs ',fontsize=16)\n",
        "plt.ylabel('Loss',fontsize=16)\n",
        "plt.title('Loss Curves',fontsize=16)"
      ],
      "execution_count": 0,
      "outputs": [
        {
          "output_type": "error",
          "ename": "SyntaxError",
          "evalue": "ignored",
          "traceback": [
            "\u001b[0;36m  File \u001b[0;32m\"<ipython-input-19-397aa7a144e1>\"\u001b[0;36m, line \u001b[0;32m4\u001b[0m\n\u001b[0;31m    plt.legend(['Training loss', 'Validation Losmodel2.samodel2.model2\u001b[0m\n\u001b[0m                                                                     ^\u001b[0m\n\u001b[0;31mSyntaxError\u001b[0m\u001b[0;31m:\u001b[0m EOL while scanning string literal\n"
          ]
        }
      ]
    },
    {
      "metadata": {
        "id": "nVZ7DFw5_rAe",
        "colab_type": "code",
        "colab": {}
      },
      "cell_type": "code",
      "source": [
        "plt.figure(figsize=[8,6])\n",
        "plt.plot(history2.history['acc'],'r',linewidth=3.0)\n",
        "plt.plot(history2.history['val_acc'],'b',linewidth=3.0)\n",
        "plt.legend(['Training Accuracy', 'Validation Accuracy'],fontsize=18)\n",
        "plt.xlabel('Epochs ',fontsize=16)\n",
        "plt.ylabel('Accuracy',fontsize=16)\n",
        "plt.title('Accuracy Curves',fontsize=16)"
      ],
      "execution_count": 0,
      "outputs": []
    },
    {
      "metadata": {
        "id": "5FK5E3Ot_rAi",
        "colab_type": "code",
        "colab": {}
      },
      "cell_type": "code",
      "source": [
        "from keras.models import load_model\n",
        "\n",
        "model2.save('my_model2.h5')  "
      ],
      "execution_count": 0,
      "outputs": []
    },
    {
      "metadata": {
        "id": "3ht_r_GUNtx0",
        "colab_type": "code",
        "colab": {}
      },
      "cell_type": "code",
      "source": [
        "img = Image.open(\"c.jpg\") \n",
        "width, height = img.size \n",
        "print(width)\n",
        "print(height)\n",
        "img = img.resize((width, width))  \n",
        "width, height = img.size \n",
        "print(width)\n",
        "print(height)\n",
        "img = img.resize((32,32))  \n",
        "width, height = img.size \n",
        "print(width)\n",
        "print(height)\n",
        "a = np.array(img)\n",
        "plt.imshow(a, cmap='gray')\n",
        "print(a.shape)\n",
        "i= a.reshape(1,32,32,3)\n",
        "t=model2.predict_classes(i)\n",
        "print(\"prediction: \",t)\n",
        "if t==0:\n",
        "  print(\"airplane\")\n",
        "if t==1:\n",
        "  print(\"automobile\")\n",
        "if t==2:\n",
        "  print(\"bird\")\n",
        "if t==3:\n",
        "  print(\"cat\")\n",
        "if t==4:\n",
        "  print(\"deer\")\n",
        "if t==5:\n",
        "  print(\"dog\")  \n",
        "if t==6:\n",
        "  print(\"frog\")\n",
        "if t==7:\n",
        "  print(\"horse\")  \n",
        "if t==8:\n",
        "  print(\"ship\")\n",
        "if t==9:\n",
        "  print(\"truck\")"
      ],
      "execution_count": 0,
      "outputs": []
    }
  ]
}